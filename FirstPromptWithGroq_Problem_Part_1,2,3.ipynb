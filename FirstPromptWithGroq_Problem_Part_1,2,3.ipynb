{
  "nbformat": 4,
  "nbformat_minor": 0,
  "metadata": {
    "colab": {
      "provenance": [],
      "include_colab_link": true
    },
    "kernelspec": {
      "name": "python3",
      "display_name": "Python 3"
    },
    "language_info": {
      "name": "python"
    }
  },
  "cells": [
    {
      "cell_type": "markdown",
      "metadata": {
        "id": "view-in-github",
        "colab_type": "text"
      },
      "source": [
        "<a href=\"https://colab.research.google.com/github/padolekrushna/Prompt-Engineering-Class/blob/main/FirstPromptWithGroq_Problem_Part_1%2C2%2C3.ipynb\" target=\"_parent\"><img src=\"https://colab.research.google.com/assets/colab-badge.svg\" alt=\"Open In Colab\"/></a>"
      ]
    },
    {
      "cell_type": "markdown",
      "source": [
        "# Install the required components"
      ],
      "metadata": {
        "id": "xNt9uOWIZ332"
      }
    },
    {
      "cell_type": "code",
      "source": [
        "!pip install langchain groq\n",
        "!pip install langchain-groq groq\n"
      ],
      "metadata": {
        "id": "1b9cAsm3U5ZL",
        "colab": {
          "base_uri": "https://localhost:8080/"
        },
        "collapsed": true,
        "outputId": "48ea9060-9fd8-4bef-ce44-84b37e1ba637"
      },
      "execution_count": 5,
      "outputs": [
        {
          "output_type": "stream",
          "name": "stdout",
          "text": [
            "Requirement already satisfied: langchain in /usr/local/lib/python3.10/dist-packages (0.2.14)\n",
            "Requirement already satisfied: groq in /usr/local/lib/python3.10/dist-packages (0.9.0)\n",
            "Requirement already satisfied: PyYAML>=5.3 in /usr/local/lib/python3.10/dist-packages (from langchain) (6.0.2)\n",
            "Requirement already satisfied: SQLAlchemy<3,>=1.4 in /usr/local/lib/python3.10/dist-packages (from langchain) (2.0.32)\n",
            "Requirement already satisfied: aiohttp<4.0.0,>=3.8.3 in /usr/local/lib/python3.10/dist-packages (from langchain) (3.10.3)\n",
            "Requirement already satisfied: async-timeout<5.0.0,>=4.0.0 in /usr/local/lib/python3.10/dist-packages (from langchain) (4.0.3)\n",
            "Requirement already satisfied: langchain-core<0.3.0,>=0.2.32 in /usr/local/lib/python3.10/dist-packages (from langchain) (0.2.33)\n",
            "Requirement already satisfied: langchain-text-splitters<0.3.0,>=0.2.0 in /usr/local/lib/python3.10/dist-packages (from langchain) (0.2.2)\n",
            "Requirement already satisfied: langsmith<0.2.0,>=0.1.17 in /usr/local/lib/python3.10/dist-packages (from langchain) (0.1.99)\n",
            "Requirement already satisfied: numpy<2,>=1 in /usr/local/lib/python3.10/dist-packages (from langchain) (1.26.4)\n",
            "Requirement already satisfied: pydantic<3,>=1 in /usr/local/lib/python3.10/dist-packages (from langchain) (2.8.2)\n",
            "Requirement already satisfied: requests<3,>=2 in /usr/local/lib/python3.10/dist-packages (from langchain) (2.32.3)\n",
            "Requirement already satisfied: tenacity!=8.4.0,<9.0.0,>=8.1.0 in /usr/local/lib/python3.10/dist-packages (from langchain) (8.5.0)\n",
            "Requirement already satisfied: anyio<5,>=3.5.0 in /usr/local/lib/python3.10/dist-packages (from groq) (3.7.1)\n",
            "Requirement already satisfied: distro<2,>=1.7.0 in /usr/lib/python3/dist-packages (from groq) (1.7.0)\n",
            "Requirement already satisfied: httpx<1,>=0.23.0 in /usr/local/lib/python3.10/dist-packages (from groq) (0.27.0)\n",
            "Requirement already satisfied: sniffio in /usr/local/lib/python3.10/dist-packages (from groq) (1.3.1)\n",
            "Requirement already satisfied: typing-extensions<5,>=4.7 in /usr/local/lib/python3.10/dist-packages (from groq) (4.12.2)\n",
            "Requirement already satisfied: aiohappyeyeballs>=2.3.0 in /usr/local/lib/python3.10/dist-packages (from aiohttp<4.0.0,>=3.8.3->langchain) (2.3.5)\n",
            "Requirement already satisfied: aiosignal>=1.1.2 in /usr/local/lib/python3.10/dist-packages (from aiohttp<4.0.0,>=3.8.3->langchain) (1.3.1)\n",
            "Requirement already satisfied: attrs>=17.3.0 in /usr/local/lib/python3.10/dist-packages (from aiohttp<4.0.0,>=3.8.3->langchain) (24.2.0)\n",
            "Requirement already satisfied: frozenlist>=1.1.1 in /usr/local/lib/python3.10/dist-packages (from aiohttp<4.0.0,>=3.8.3->langchain) (1.4.1)\n",
            "Requirement already satisfied: multidict<7.0,>=4.5 in /usr/local/lib/python3.10/dist-packages (from aiohttp<4.0.0,>=3.8.3->langchain) (6.0.5)\n",
            "Requirement already satisfied: yarl<2.0,>=1.0 in /usr/local/lib/python3.10/dist-packages (from aiohttp<4.0.0,>=3.8.3->langchain) (1.9.4)\n",
            "Requirement already satisfied: idna>=2.8 in /usr/local/lib/python3.10/dist-packages (from anyio<5,>=3.5.0->groq) (3.7)\n",
            "Requirement already satisfied: exceptiongroup in /usr/local/lib/python3.10/dist-packages (from anyio<5,>=3.5.0->groq) (1.2.2)\n",
            "Requirement already satisfied: certifi in /usr/local/lib/python3.10/dist-packages (from httpx<1,>=0.23.0->groq) (2024.7.4)\n",
            "Requirement already satisfied: httpcore==1.* in /usr/local/lib/python3.10/dist-packages (from httpx<1,>=0.23.0->groq) (1.0.5)\n",
            "Requirement already satisfied: h11<0.15,>=0.13 in /usr/local/lib/python3.10/dist-packages (from httpcore==1.*->httpx<1,>=0.23.0->groq) (0.14.0)\n",
            "Requirement already satisfied: jsonpatch<2.0,>=1.33 in /usr/local/lib/python3.10/dist-packages (from langchain-core<0.3.0,>=0.2.32->langchain) (1.33)\n",
            "Requirement already satisfied: packaging<25,>=23.2 in /usr/local/lib/python3.10/dist-packages (from langchain-core<0.3.0,>=0.2.32->langchain) (24.1)\n",
            "Requirement already satisfied: orjson<4.0.0,>=3.9.14 in /usr/local/lib/python3.10/dist-packages (from langsmith<0.2.0,>=0.1.17->langchain) (3.10.7)\n",
            "Requirement already satisfied: annotated-types>=0.4.0 in /usr/local/lib/python3.10/dist-packages (from pydantic<3,>=1->langchain) (0.7.0)\n",
            "Requirement already satisfied: pydantic-core==2.20.1 in /usr/local/lib/python3.10/dist-packages (from pydantic<3,>=1->langchain) (2.20.1)\n",
            "Requirement already satisfied: charset-normalizer<4,>=2 in /usr/local/lib/python3.10/dist-packages (from requests<3,>=2->langchain) (3.3.2)\n",
            "Requirement already satisfied: urllib3<3,>=1.21.1 in /usr/local/lib/python3.10/dist-packages (from requests<3,>=2->langchain) (2.0.7)\n",
            "Requirement already satisfied: greenlet!=0.4.17 in /usr/local/lib/python3.10/dist-packages (from SQLAlchemy<3,>=1.4->langchain) (3.0.3)\n",
            "Requirement already satisfied: jsonpointer>=1.9 in /usr/local/lib/python3.10/dist-packages (from jsonpatch<2.0,>=1.33->langchain-core<0.3.0,>=0.2.32->langchain) (3.0.0)\n",
            "Requirement already satisfied: langchain-groq in /usr/local/lib/python3.10/dist-packages (0.1.9)\n",
            "Requirement already satisfied: groq in /usr/local/lib/python3.10/dist-packages (0.9.0)\n",
            "Requirement already satisfied: langchain-core<0.3.0,>=0.2.26 in /usr/local/lib/python3.10/dist-packages (from langchain-groq) (0.2.33)\n",
            "Requirement already satisfied: anyio<5,>=3.5.0 in /usr/local/lib/python3.10/dist-packages (from groq) (3.7.1)\n",
            "Requirement already satisfied: distro<2,>=1.7.0 in /usr/lib/python3/dist-packages (from groq) (1.7.0)\n",
            "Requirement already satisfied: httpx<1,>=0.23.0 in /usr/local/lib/python3.10/dist-packages (from groq) (0.27.0)\n",
            "Requirement already satisfied: pydantic<3,>=1.9.0 in /usr/local/lib/python3.10/dist-packages (from groq) (2.8.2)\n",
            "Requirement already satisfied: sniffio in /usr/local/lib/python3.10/dist-packages (from groq) (1.3.1)\n",
            "Requirement already satisfied: typing-extensions<5,>=4.7 in /usr/local/lib/python3.10/dist-packages (from groq) (4.12.2)\n",
            "Requirement already satisfied: idna>=2.8 in /usr/local/lib/python3.10/dist-packages (from anyio<5,>=3.5.0->groq) (3.7)\n",
            "Requirement already satisfied: exceptiongroup in /usr/local/lib/python3.10/dist-packages (from anyio<5,>=3.5.0->groq) (1.2.2)\n",
            "Requirement already satisfied: certifi in /usr/local/lib/python3.10/dist-packages (from httpx<1,>=0.23.0->groq) (2024.7.4)\n",
            "Requirement already satisfied: httpcore==1.* in /usr/local/lib/python3.10/dist-packages (from httpx<1,>=0.23.0->groq) (1.0.5)\n",
            "Requirement already satisfied: h11<0.15,>=0.13 in /usr/local/lib/python3.10/dist-packages (from httpcore==1.*->httpx<1,>=0.23.0->groq) (0.14.0)\n",
            "Requirement already satisfied: PyYAML>=5.3 in /usr/local/lib/python3.10/dist-packages (from langchain-core<0.3.0,>=0.2.26->langchain-groq) (6.0.2)\n",
            "Requirement already satisfied: jsonpatch<2.0,>=1.33 in /usr/local/lib/python3.10/dist-packages (from langchain-core<0.3.0,>=0.2.26->langchain-groq) (1.33)\n",
            "Requirement already satisfied: langsmith<0.2.0,>=0.1.75 in /usr/local/lib/python3.10/dist-packages (from langchain-core<0.3.0,>=0.2.26->langchain-groq) (0.1.99)\n",
            "Requirement already satisfied: packaging<25,>=23.2 in /usr/local/lib/python3.10/dist-packages (from langchain-core<0.3.0,>=0.2.26->langchain-groq) (24.1)\n",
            "Requirement already satisfied: tenacity!=8.4.0,<9.0.0,>=8.1.0 in /usr/local/lib/python3.10/dist-packages (from langchain-core<0.3.0,>=0.2.26->langchain-groq) (8.5.0)\n",
            "Requirement already satisfied: annotated-types>=0.4.0 in /usr/local/lib/python3.10/dist-packages (from pydantic<3,>=1.9.0->groq) (0.7.0)\n",
            "Requirement already satisfied: pydantic-core==2.20.1 in /usr/local/lib/python3.10/dist-packages (from pydantic<3,>=1.9.0->groq) (2.20.1)\n",
            "Requirement already satisfied: jsonpointer>=1.9 in /usr/local/lib/python3.10/dist-packages (from jsonpatch<2.0,>=1.33->langchain-core<0.3.0,>=0.2.26->langchain-groq) (3.0.0)\n",
            "Requirement already satisfied: orjson<4.0.0,>=3.9.14 in /usr/local/lib/python3.10/dist-packages (from langsmith<0.2.0,>=0.1.75->langchain-core<0.3.0,>=0.2.26->langchain-groq) (3.10.7)\n",
            "Requirement already satisfied: requests<3,>=2 in /usr/local/lib/python3.10/dist-packages (from langsmith<0.2.0,>=0.1.75->langchain-core<0.3.0,>=0.2.26->langchain-groq) (2.32.3)\n",
            "Requirement already satisfied: charset-normalizer<4,>=2 in /usr/local/lib/python3.10/dist-packages (from requests<3,>=2->langsmith<0.2.0,>=0.1.75->langchain-core<0.3.0,>=0.2.26->langchain-groq) (3.3.2)\n",
            "Requirement already satisfied: urllib3<3,>=1.21.1 in /usr/local/lib/python3.10/dist-packages (from requests<3,>=2->langsmith<0.2.0,>=0.1.75->langchain-core<0.3.0,>=0.2.26->langchain-groq) (2.0.7)\n"
          ]
        }
      ]
    },
    {
      "cell_type": "markdown",
      "source": [
        "#Part 1: 10 Marks\n",
        "Write program in the colab notebook to connect to groq API to call a Mistral Model\n",
        "(“mixtral-8x7b-32768”) to run a few prompts against it. Your program should use Groq’s\n",
        "instance of the mistral model using their API via LangChain"
      ],
      "metadata": {
        "id": "kbkhKWd_vBrz"
      }
    },
    {
      "cell_type": "code",
      "source": [
        "from langchain_groq import ChatGroq\n",
        "from langchain.prompts import PromptTemplate\n",
        "from langchain.chains import LLMChain\n",
        "import os\n",
        "\n",
        "# Set your Groq API key\n",
        "os.environ[\"GROQ_API_KEY\"] = \"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\"\n",
        "\n",
        "# Initialize the Groq LLM\n",
        "llm = ChatGroq(model_name=\"mixtral-8x7b-32768\")\n",
        "\n",
        "# Define a prompt template\n",
        "prompt_template = PromptTemplate(\n",
        "    input_variables=[\"topic\"],\n",
        "    template=\"Explain the concept of {topic} in simple terms a high school student can understand.\"\n",
        ")\n",
        "\n",
        "# Create an LLMChain\n",
        "chain = LLMChain(llm=llm, prompt=prompt_template)\n",
        "\n",
        "# Use the chain to generate a response\n",
        "topic = \"time travel\"\n",
        "response = chain.run(topic)\n",
        "\n",
        "print(f\"Explanation of {topic}:\")\n",
        "print(response)"
      ],
      "metadata": {
        "colab": {
          "base_uri": "https://localhost:8080/"
        },
        "id": "kmNL-OSQWEPT",
        "outputId": "7997c6c5-82e3-47d7-df3f-967d119e3512"
      },
      "execution_count": 6,
      "outputs": [
        {
          "output_type": "stream",
          "name": "stdout",
          "text": [
            "Explanation of time travel:\n",
            "Time travel is a concept where someone is able to move between different points in time, just like how we move between different places in space. For example, a time traveler could go back to the past and see what life was like hundreds or even thousands of years ago, or they could jump forward to the future and see what the world will be like decades or centuries from now.\n",
            "\n",
            "Time travel is often depicted in science fiction movies and books, but it is still a topic of debate among scientists and philosophers. Some theories suggest that time travel could be possible using advanced technology or by exploiting the laws of physics, but so far there is no concrete evidence that time travel is possible.\n",
            "\n",
            "One way to think about time travel is to imagine time as a river that flows continuously from the past, through the present, and into the future. A time traveler would be like a boat that can move upstream or downstream along the river of time, going backwards or forwards in time at will. However, this is just a metaphor and the actual nature of time and time travel is likely to be much more complex and difficult to understand.\n"
          ]
        }
      ]
    },
    {
      "cell_type": "markdown",
      "source": [
        "#Part 2: 20 Marks\n",
        "Write a zero shot prompt to complete one of the following tasks, using above established\n",
        "connection.\n",
        "1. Write a short story about India\n",
        "2. Write a short story about Maharashtra"
      ],
      "metadata": {
        "id": "7pbNDHahu0rx"
      }
    },
    {
      "cell_type": "code",
      "source": [
        "prompt = \"Write a short story about India.\"\n",
        "\n",
        "# Run the prompt using the established connection\n",
        "response = chain.run(prompt)\n",
        "print(response)\n"
      ],
      "metadata": {
        "colab": {
          "base_uri": "https://localhost:8080/"
        },
        "id": "sPvwIA5JmeCK",
        "outputId": "e9135f08-d3c2-4dd3-bf15-3126e792fd71"
      },
      "execution_count": 7,
      "outputs": [
        {
          "output_type": "stream",
          "name": "stdout",
          "text": [
            "Sure, I'd be happy to explain!\n",
            "\n",
            "The concept of \"writing a short story about India\" means creating a fictional narrative that takes place in India, a country located in South Asia. India is known for its rich history, diverse culture, and vibrant traditions. When writing a short story about India, you might choose to set the story in a particular region of the country, such as Rajasthan or Kerala, and incorporate elements of Indian folklore, mythology, or contemporary life.\n",
            "\n",
            "Here's a simple short story about India that a high school student might enjoy:\n",
            "\n",
            "Once upon a time, in the bustling city of Mumbai, there lived a young girl named Priya. Priya was an ambitious student who dreamed of becoming a famous chef one day. She spent hours in the kitchen, experimenting with spices and flavors, and perfecting her culinary skills.\n",
            "\n",
            "One day, Priya's grandmother, who lived in a small village in the state of West Bengal, paid a visit to Mumbai. Priya was thrilled to see her grandmother and eager to show her all the delicious dishes she had been cooking.\n",
            "\n",
            "Grandmother was impressed by Priya's culinary talent, but she noticed that Priya was using too many store-bought spices and not enough fresh ingredients. She told Priya that the secret to making truly authentic Indian food was to use fresh herbs and spices, harvested from one's own garden.\n",
            "\n",
            "Priya was intrigued by this idea and asked her grandmother to teach her how to grow her own spices. Grandmother agreed and took Priya on a journey to her village, where they planted a small garden filled with coriander, turmeric, cumin, and other fragrant herbs and spices.\n",
            "\n",
            "Back in Mumbai, Priya started using the fresh spices from her garden to cook her dishes. The flavors were more vibrant and delicious than ever before, and people began to take notice. Priya's culinary skills became legendary, and she was soon offered a job at a prestigious restaurant in the city.\n",
            "\n",
            "Priya was overjoyed and felt grateful to her grandmother for teaching her the importance of using fresh ingredients. She knew that her success was due in large part to the lessons she had learned in her grandmother's village, and she vowed to always honor her roots and the rich culinary traditions of India.\n"
          ]
        }
      ]
    },
    {
      "cell_type": "code",
      "source": [
        "prompt = \"Write a short story about Maharashtra\"\n",
        "\n",
        "# Run the prompt using the established connection\n",
        "response = chain.run(prompt)\n",
        "print(response)\n"
      ],
      "metadata": {
        "colab": {
          "base_uri": "https://localhost:8080/"
        },
        "id": "LzKCLL7pmp_e",
        "outputId": "68090c4f-9de6-4adb-e39a-3eeae078ee9f"
      },
      "execution_count": 8,
      "outputs": [
        {
          "output_type": "stream",
          "name": "stdout",
          "text": [
            "Sure, I'd be happy to explain the concept of Maharashtra and write a short story about it!\n",
            "\n",
            "Maharashtra is a state located in the western part of India. It is the second-most populous state in the country, with over 114 million people calling it home. Maharashtra is known for its rich history, diverse culture, and significant contributions to India's economy.\n",
            "\n",
            "Now, let's move on to the story.\n",
            "\n",
            "Once upon a time, in the bustling city of Mumbai, the capital of Maharashtra, there lived a high school student named Rohan. Rohan was a curious and adventurous teenager who loved exploring his surroundings and learning about different cultures.\n",
            "\n",
            "One day, Rohan's history teacher assigned a project on the history and culture of Maharashtra. Rohan was excited about the project and decided to visit some historical sites and speak to locals to gain a better understanding of his state's rich heritage.\n",
            "\n",
            "Rohan started his journey by visiting the ancient Ajanta and Ellora caves, located near the city of Aurangabad. The caves are famous for their rock-cut Buddhist, Hindu, and Jain temples and monasteries, which date back to the 2nd century BCE. Rohan was amazed by the intricate carvings and sculptures on the cave walls and learned about the different religious beliefs and practices that existed in Maharashtra during that time.\n",
            "\n",
            "Next, Rohan visited the historic city of Pune, which was once the capital of the Maratha Empire. He visited the Shaniwar Wada, a grand palace built in the 18th century by the Maratha ruler Baji Rao I. Rohan learned about the Maratha Empire's military conquests and cultural achievements and was impressed by the palace's grand architecture and design.\n",
            "\n",
            "Rohan also visited the coastal town of Alibaug, where he enjoyed the beautiful beaches and learned about the region's fishing industry and coastal culture. He spoke to local fishermen and women and learned about their daily lives, traditions, and festivals.\n",
            "\n",
            "Throughout his journey, Rohan documented his experiences and learnings in a journal. He was fascinated by the diversity and richness of Maharashtra's history and culture and was proud to be a part of it.\n",
            "\n",
            "When Rohan presented his project to his classmates, they were impressed by his knowledge and enthusiasm. Rohan's project helped his classmates gain a better understanding of Maharashtra's heritage and inspired them to explore their own state's history and culture.\n",
            "\n",
            "In the end, Rohan realized that there was so much more to Maharashtra than he had initially thought. He learned that Maharashtra was a land of diverse cultures, traditions, and beliefs, and that its rich history and heritage were worth preserving and celebrating.\n"
          ]
        }
      ]
    },
    {
      "cell_type": "markdown",
      "source": [
        "#Part 3: 20 Marks\n",
        "Write a few shot prompts to complete one of the following tasks.\n",
        "1. Given examples of restaurant reviews (there are free datasets, please google them use\n",
        "at most 5), can you classify new reviews as Positive, Negative, Meh!\n",
        "2. Given examples of jokes (create a few examples), classify a new joke as Good or Bad or\n",
        "Meh!"
      ],
      "metadata": {
        "id": "GxBBhOMpuqm5"
      }
    },
    {
      "cell_type": "code",
      "source": [
        "# Example restaurant reviews\n",
        "examples = [\n",
        "    \"The food was amazing, and the service was excellent. Highly recommend! -> Positive\",\n",
        "    \"The ambiance was nice, but the food was just okay. -> Meh!\",\n",
        "    \"I did not enjoy the meal at all. It was cold and tasteless. -> Negative\",\n",
        "    \"The dessert was fantastic, but the main course was disappointing. -> Meh!\",\n",
        "    \"Great place for a quick bite, but not for a full meal. -> Meh!\"\n",
        "]\n",
        "\n",
        "# Construct the few-shot prompt\n",
        "few_shot_prompt = \"\\n\".join(examples) + \"\\nClassify the following review: The pizza was delicious, and the staff was friendly.\"\n",
        "\n",
        "# Run the few-shot prompt using the established connection\n",
        "response = chain.run(few_shot_prompt)\n",
        "print(response)\n"
      ],
      "metadata": {
        "colab": {
          "base_uri": "https://localhost:8080/"
        },
        "id": "QVgzvXw4m84u",
        "outputId": "fb7a8654-2ff7-4b63-cd58-c70841c66c3c"
      },
      "execution_count": 30,
      "outputs": [
        {
          "output_type": "stream",
          "name": "stdout",
          "text": [
            "Sure! Here's a simple explanation:\n",
            "\n",
            "* \"The food was amazing, and the service was excellent. Highly recommend!\" - This is a very positive review. It means that the person really enjoyed the food and the service was great. They think other people should definitely try it out.\n",
            "* \"The ambiance was nice, but the food was just okay.\" - This review is just so-so. It means that the place looked nice, but the food was just average or mediocre.\n",
            "* \"I did not enjoy the meal at all. It was cold and tasteless.\" - This is a negative review. It means that the person did not like the food at all. They thought it was cold and had no flavor.\n",
            "* \"The dessert was fantastic, but the main course was disappointing.\" - This review is also just so-so. It means that one part of the meal was really good (the dessert), but the other part (the main course) was not satisfying.\n",
            "* \"Great place for a quick bite, but not for a full meal.\" - This review is also just so-so. It means that the place is good for a small meal or snack, but not for a big or complete meal.\n",
            "\n",
            "Based on the review \"The pizza was delicious, and the staff was friendly.\", I would classify it as a positive review. The person liked the pizza and thought the staff was friendly, which means they had a good experience overall.\n"
          ]
        }
      ]
    },
    {
      "cell_type": "code",
      "source": [
        "# Example jokes\n",
        "examples = [\n",
        "    \"Why don't scientists trust atoms? Because they make up everything! -> Good\",\n",
        "    \"I told my wife she was drawing her eyebrows too high. She looked surprised. -> Good\",\n",
        "    \"What do you call fake spaghetti? An impasta. -> Meh!\",\n",
        "    \"Why did the scarecrow win an award? Because he was outstanding in his field. -> Good\",\n",
        "    \"I used to play piano by ear, but now I use my hands. -> Bad\"\n",
        "]\n",
        "\n",
        "# Construct the few-shot prompt\n",
        "few_shot_prompt = \"\\n\".join(examples) + \"\\nClassify the following joke: Why did the bicycle fall over? Because it was two-tired.\"\n",
        "\n",
        "# Run the few-shot prompt using the established connection\n",
        "response = chain.run(few_shot_prompt)\n",
        "print(response)\n",
        "\n"
      ],
      "metadata": {
        "colab": {
          "base_uri": "https://localhost:8080/"
        },
        "id": "Xe2iOTfOneSK",
        "outputId": "f24e08d9-4486-45d0-dd36-15f95b9abd90"
      },
      "execution_count": 32,
      "outputs": [
        {
          "output_type": "stream",
          "name": "stdout",
          "text": [
            "The concept of \"Why don't scientists trust atoms? Because they make up everything!\" is a play on words, using a pun to make a joke. The word \"make up\" has two meanings here: one is to compose or form something, and the other is to lie or fabricate. So, the joke is saying that atoms can't be trusted because they lie or make things up (when in fact, they form or compose everything in the universe).\n",
            "\n",
            "The joke \"I told my wife she was drawing her eyebrows too high. She looked surprised.\" is also a play on words. Here, the phrase \"drawing her eyebrows too high\" means that she is applying makeup to make her eyebrows look higher than they naturally are. When the wife hears this, she looks surprised, which is a visual representation of the joke - her eyebrows go up in surprise.\n",
            "\n",
            "The joke \"What do you call fake spaghetti? An impasta.\" is a pun on the word \"imposter\" and \"pasta.\" It's not a very good joke because it's a bit of a stretch to make the connection between \"imposter\" and \"pasta\" and it's not very funny.\n",
            "\n",
            "The joke \"Why did the scarecrow win an award? Because he was outstanding in his field.\" is a pun on the word \"outstanding\" and \"standing in a field.\" The scarecrow is literally standing in a field, but he is also outstanding because he is doing his job well.\n",
            "\n",
            "The joke \"I used to play piano by ear, but now I use my hands.\" is a play on words, but it's not a very good joke. Here, the phrase \"play piano by ear\" means that the person is playing music without reading sheet music, relying on their sense of hearing. The punchline \"now I use my hands\" is not funny because it's stating the obvious - of course, you need to use your hands to play the piano!\n",
            "\n",
            "The joke \"Why did the bicycle fall over? Because it was two-tired.\" is a pun on the word \"tired\" and \"tire.\" The bicycle has two tires, and when it's too tired (or has a flat tire), it falls over. This is a simple play on words that high school students can understand.\n"
          ]
        }
      ]
    }
  ]
}