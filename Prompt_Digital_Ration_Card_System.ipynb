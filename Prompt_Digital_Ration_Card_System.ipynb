{
  "nbformat": 4,
  "nbformat_minor": 0,
  "metadata": {
    "colab": {
      "provenance": []
    },
    "kernelspec": {
      "name": "python3",
      "display_name": "Python 3"
    },
    "language_info": {
      "name": "python"
    }
  },
  "cells": [
    {
      "cell_type": "markdown",
      "source": [
        "#Digital Ration Card System Prompt Project"
      ],
      "metadata": {
        "id": "x6GBVYdjtEOB"
      }
    },
    {
      "cell_type": "markdown",
      "source": [
        "###Idea: Create a digital ration card system that allows users to check their entitlements and find nearby ration shops.\n",
        "###Use cases: - A family checks their remaining food grain quota for the month.A ration shop owner verifies a customer’s entitlement."
      ],
      "metadata": {
        "id": "osvqEt7Ytj6D"
      }
    },
    {
      "cell_type": "code",
      "source": [
        "\n",
        "\n",
        "import pandas as pd\n",
        "from google.colab import files\n",
        "\n",
        "\n",
        "df = pd.DataFrame({\n",
        "\n",
        "    'family_id': ['FAM1', 'FAM2', 'FAM3', 'FAM4', 'FAM5'],\n",
        "\n",
        "    'food_grain_quota': [50, 75, 100, 125, 150],\n",
        "\n",
        "    'ration_shop_id': ['SHOP1', 'SHOP2', 'SHOP3', 'SHOP4', 'SHOP5'],\n",
        "\n",
        "    'location': ['Mumbai', 'Delhi', 'Bangalore', 'Hyderabad', 'Chennai']\n",
        "\n",
        "})\n",
        "\n",
        "\n",
        "df2 = pd.DataFrame({\n",
        "\n",
        "    'shop_id': ['SHOP1', 'SHOP2', 'SHOP3', 'SHOP4', 'SHOP5'],\n",
        "\n",
        "    'location': ['Mumbai', 'Delhi', 'Bangalore', 'Hyderabad', 'Chennai'],\n",
        "\n",
        "    'address': ['123 Main St', '456 Market St', '789 High St', '901 Low St', '234 Broad St'],\n",
        "\n",
        "    'phone_number': ['1234567890', '9876543210', '5551234567', '7654321098', '3421098765']\n",
        "\n",
        "})\n",
        "\n",
        "\n",
        "\n",
        "df.to_csv('ration_cards.csv', index=False)\n",
        "df2.to_csv('ration_shops.csv', index=False)\n",
        "\n",
        "\n",
        "files.download('ration_cards.csv')\n",
        "files.download('ration_shops.csv')\n"
      ],
      "metadata": {
        "colab": {
          "base_uri": "https://localhost:8080/",
          "height": 17
        },
        "id": "DSvVbUBcbkeM",
        "outputId": "f8abedfc-3b06-4ae5-dcdd-b2eb7fffc7a3"
      },
      "execution_count": null,
      "outputs": [
        {
          "output_type": "display_data",
          "data": {
            "text/plain": [
              "<IPython.core.display.Javascript object>"
            ],
            "application/javascript": [
              "\n",
              "    async function download(id, filename, size) {\n",
              "      if (!google.colab.kernel.accessAllowed) {\n",
              "        return;\n",
              "      }\n",
              "      const div = document.createElement('div');\n",
              "      const label = document.createElement('label');\n",
              "      label.textContent = `Downloading \"${filename}\": `;\n",
              "      div.appendChild(label);\n",
              "      const progress = document.createElement('progress');\n",
              "      progress.max = size;\n",
              "      div.appendChild(progress);\n",
              "      document.body.appendChild(div);\n",
              "\n",
              "      const buffers = [];\n",
              "      let downloaded = 0;\n",
              "\n",
              "      const channel = await google.colab.kernel.comms.open(id);\n",
              "      // Send a message to notify the kernel that we're ready.\n",
              "      channel.send({})\n",
              "\n",
              "      for await (const message of channel.messages) {\n",
              "        // Send a message to notify the kernel that we're ready.\n",
              "        channel.send({})\n",
              "        if (message.buffers) {\n",
              "          for (const buffer of message.buffers) {\n",
              "            buffers.push(buffer);\n",
              "            downloaded += buffer.byteLength;\n",
              "            progress.value = downloaded;\n",
              "          }\n",
              "        }\n",
              "      }\n",
              "      const blob = new Blob(buffers, {type: 'application/binary'});\n",
              "      const a = document.createElement('a');\n",
              "      a.href = window.URL.createObjectURL(blob);\n",
              "      a.download = filename;\n",
              "      div.appendChild(a);\n",
              "      a.click();\n",
              "      div.remove();\n",
              "    }\n",
              "  "
            ]
          },
          "metadata": {}
        },
        {
          "output_type": "display_data",
          "data": {
            "text/plain": [
              "<IPython.core.display.Javascript object>"
            ],
            "application/javascript": [
              "download(\"download_7c8859d8-463e-45fc-8fec-a12e0a40c7f0\", \"ration_cards.csv\", 165)"
            ]
          },
          "metadata": {}
        },
        {
          "output_type": "display_data",
          "data": {
            "text/plain": [
              "<IPython.core.display.Javascript object>"
            ],
            "application/javascript": [
              "\n",
              "    async function download(id, filename, size) {\n",
              "      if (!google.colab.kernel.accessAllowed) {\n",
              "        return;\n",
              "      }\n",
              "      const div = document.createElement('div');\n",
              "      const label = document.createElement('label');\n",
              "      label.textContent = `Downloading \"${filename}\": `;\n",
              "      div.appendChild(label);\n",
              "      const progress = document.createElement('progress');\n",
              "      progress.max = size;\n",
              "      div.appendChild(progress);\n",
              "      document.body.appendChild(div);\n",
              "\n",
              "      const buffers = [];\n",
              "      let downloaded = 0;\n",
              "\n",
              "      const channel = await google.colab.kernel.comms.open(id);\n",
              "      // Send a message to notify the kernel that we're ready.\n",
              "      channel.send({})\n",
              "\n",
              "      for await (const message of channel.messages) {\n",
              "        // Send a message to notify the kernel that we're ready.\n",
              "        channel.send({})\n",
              "        if (message.buffers) {\n",
              "          for (const buffer of message.buffers) {\n",
              "            buffers.push(buffer);\n",
              "            downloaded += buffer.byteLength;\n",
              "            progress.value = downloaded;\n",
              "          }\n",
              "        }\n",
              "      }\n",
              "      const blob = new Blob(buffers, {type: 'application/binary'});\n",
              "      const a = document.createElement('a');\n",
              "      a.href = window.URL.createObjectURL(blob);\n",
              "      a.download = filename;\n",
              "      div.appendChild(a);\n",
              "      a.click();\n",
              "      div.remove();\n",
              "    }\n",
              "  "
            ]
          },
          "metadata": {}
        },
        {
          "output_type": "display_data",
          "data": {
            "text/plain": [
              "<IPython.core.display.Javascript object>"
            ],
            "application/javascript": [
              "download(\"download_7a6f7c1f-bd6a-4c0d-894b-ca1de737a739\", \"ration_shops.csv\", 226)"
            ]
          },
          "metadata": {}
        },
        {
          "output_type": "display_data",
          "data": {
            "text/plain": [
              "<IPython.core.display.Javascript object>"
            ],
            "application/javascript": [
              "\n",
              "    async function download(id, filename, size) {\n",
              "      if (!google.colab.kernel.accessAllowed) {\n",
              "        return;\n",
              "      }\n",
              "      const div = document.createElement('div');\n",
              "      const label = document.createElement('label');\n",
              "      label.textContent = `Downloading \"${filename}\": `;\n",
              "      div.appendChild(label);\n",
              "      const progress = document.createElement('progress');\n",
              "      progress.max = size;\n",
              "      div.appendChild(progress);\n",
              "      document.body.appendChild(div);\n",
              "\n",
              "      const buffers = [];\n",
              "      let downloaded = 0;\n",
              "\n",
              "      const channel = await google.colab.kernel.comms.open(id);\n",
              "      // Send a message to notify the kernel that we're ready.\n",
              "      channel.send({})\n",
              "\n",
              "      for await (const message of channel.messages) {\n",
              "        // Send a message to notify the kernel that we're ready.\n",
              "        channel.send({})\n",
              "        if (message.buffers) {\n",
              "          for (const buffer of message.buffers) {\n",
              "            buffers.push(buffer);\n",
              "            downloaded += buffer.byteLength;\n",
              "            progress.value = downloaded;\n",
              "          }\n",
              "        }\n",
              "      }\n",
              "      const blob = new Blob(buffers, {type: 'application/binary'});\n",
              "      const a = document.createElement('a');\n",
              "      a.href = window.URL.createObjectURL(blob);\n",
              "      a.download = filename;\n",
              "      div.appendChild(a);\n",
              "      a.click();\n",
              "      div.remove();\n",
              "    }\n",
              "  "
            ]
          },
          "metadata": {}
        },
        {
          "output_type": "display_data",
          "data": {
            "text/plain": [
              "<IPython.core.display.Javascript object>"
            ],
            "application/javascript": [
              "download(\"download_0ea60bc0-b2df-436d-99fd-f2cba8635c5a\", \"demographic_data.csv\", 244)"
            ]
          },
          "metadata": {}
        }
      ]
    },
    {
      "cell_type": "code",
      "source": [
        "!pip install groq"
      ],
      "metadata": {
        "colab": {
          "base_uri": "https://localhost:8080/"
        },
        "collapsed": true,
        "id": "bN4-U1aGdStO",
        "outputId": "f12f8c9b-8459-4cbd-8f09-21cc19c56506"
      },
      "execution_count": null,
      "outputs": [
        {
          "output_type": "stream",
          "name": "stdout",
          "text": [
            "Collecting groq\n",
            "  Downloading groq-0.11.0-py3-none-any.whl.metadata (13 kB)\n",
            "Requirement already satisfied: anyio<5,>=3.5.0 in /usr/local/lib/python3.10/dist-packages (from groq) (3.7.1)\n",
            "Requirement already satisfied: distro<2,>=1.7.0 in /usr/lib/python3/dist-packages (from groq) (1.7.0)\n",
            "Collecting httpx<1,>=0.23.0 (from groq)\n",
            "  Downloading httpx-0.27.2-py3-none-any.whl.metadata (7.1 kB)\n",
            "Requirement already satisfied: pydantic<3,>=1.9.0 in /usr/local/lib/python3.10/dist-packages (from groq) (2.9.2)\n",
            "Requirement already satisfied: sniffio in /usr/local/lib/python3.10/dist-packages (from groq) (1.3.1)\n",
            "Requirement already satisfied: typing-extensions<5,>=4.7 in /usr/local/lib/python3.10/dist-packages (from groq) (4.12.2)\n",
            "Requirement already satisfied: idna>=2.8 in /usr/local/lib/python3.10/dist-packages (from anyio<5,>=3.5.0->groq) (3.10)\n",
            "Requirement already satisfied: exceptiongroup in /usr/local/lib/python3.10/dist-packages (from anyio<5,>=3.5.0->groq) (1.2.2)\n",
            "Requirement already satisfied: certifi in /usr/local/lib/python3.10/dist-packages (from httpx<1,>=0.23.0->groq) (2024.8.30)\n",
            "Collecting httpcore==1.* (from httpx<1,>=0.23.0->groq)\n",
            "  Downloading httpcore-1.0.6-py3-none-any.whl.metadata (21 kB)\n",
            "Collecting h11<0.15,>=0.13 (from httpcore==1.*->httpx<1,>=0.23.0->groq)\n",
            "  Downloading h11-0.14.0-py3-none-any.whl.metadata (8.2 kB)\n",
            "Requirement already satisfied: annotated-types>=0.6.0 in /usr/local/lib/python3.10/dist-packages (from pydantic<3,>=1.9.0->groq) (0.7.0)\n",
            "Requirement already satisfied: pydantic-core==2.23.4 in /usr/local/lib/python3.10/dist-packages (from pydantic<3,>=1.9.0->groq) (2.23.4)\n",
            "Downloading groq-0.11.0-py3-none-any.whl (106 kB)\n",
            "\u001b[2K   \u001b[90m━━━━━━━━━━━━━━━━━━━━━━━━━━━━━━━━━━━━━━━━\u001b[0m \u001b[32m106.5/106.5 kB\u001b[0m \u001b[31m4.4 MB/s\u001b[0m eta \u001b[36m0:00:00\u001b[0m\n",
            "\u001b[?25hDownloading httpx-0.27.2-py3-none-any.whl (76 kB)\n",
            "\u001b[2K   \u001b[90m━━━━━━━━━━━━━━━━━━━━━━━━━━━━━━━━━━━━━━━━\u001b[0m \u001b[32m76.4/76.4 kB\u001b[0m \u001b[31m5.5 MB/s\u001b[0m eta \u001b[36m0:00:00\u001b[0m\n",
            "\u001b[?25hDownloading httpcore-1.0.6-py3-none-any.whl (78 kB)\n",
            "\u001b[2K   \u001b[90m━━━━━━━━━━━━━━━━━━━━━━━━━━━━━━━━━━━━━━━━\u001b[0m \u001b[32m78.0/78.0 kB\u001b[0m \u001b[31m5.2 MB/s\u001b[0m eta \u001b[36m0:00:00\u001b[0m\n",
            "\u001b[?25hDownloading h11-0.14.0-py3-none-any.whl (58 kB)\n",
            "\u001b[2K   \u001b[90m━━━━━━━━━━━━━━━━━━━━━━━━━━━━━━━━━━━━━━━━\u001b[0m \u001b[32m58.3/58.3 kB\u001b[0m \u001b[31m3.8 MB/s\u001b[0m eta \u001b[36m0:00:00\u001b[0m\n",
            "\u001b[?25hInstalling collected packages: h11, httpcore, httpx, groq\n",
            "Successfully installed groq-0.11.0 h11-0.14.0 httpcore-1.0.6 httpx-0.27.2\n"
          ]
        }
      ]
    },
    {
      "cell_type": "code",
      "source": [
        "import groq\n",
        "print(groq.__version__)"
      ],
      "metadata": {
        "colab": {
          "base_uri": "https://localhost:8080/"
        },
        "id": "3yBuF-7tdZ2K",
        "outputId": "50afca68-9eab-4887-862e-f3dc2bfdb9a0"
      },
      "execution_count": null,
      "outputs": [
        {
          "output_type": "stream",
          "name": "stdout",
          "text": [
            "0.11.0\n"
          ]
        }
      ]
    },
    {
      "cell_type": "code",
      "source": [
        "from groq import Groq"
      ],
      "metadata": {
        "id": "kGGngzEUde3B"
      },
      "execution_count": null,
      "outputs": []
    },
    {
      "cell_type": "code",
      "source": [
        "import os\n",
        "import requests\n",
        "import json\n",
        "import pandas as pd\n",
        "import numpy as np\n",
        "from sklearn.feature_extraction.text import TfidfVectorizer\n",
        "from sklearn.metrics.pairwise import cosine_similarity\n",
        "from groq import Groq\n",
        "\n",
        "# Set Groq API key\n",
        "GROQ_API_KEY = \"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\"\n",
        "\n",
        "# Load the dataset\n",
        "ration_cards_df = pd.read_csv('/content/ration_cards.csv')\n",
        "ration_shops_df = pd.read_csv('/content/ration_shops.csv')\n",
        "\n",
        "# Define a function to preprocess the data\n",
        "def preprocess_data(ration_cards_df, ration_shops_df):\n",
        "    # Convert the ration card data to lowercase\n",
        "    ration_cards_df['family_id'] = ration_cards_df['family_id'].str.lower()\n",
        "    ration_cards_df['food_grain_quota'] = ration_cards_df['food_grain_quota'].astype(str).str.lower()\n",
        "    ration_cards_df['ration_shop_id'] = ration_cards_df['ration_shop_id'].str.lower()\n",
        "\n",
        "    # Convert the ration shop data to lowercase\n",
        "    ration_shops_df['shop_id'] = ration_shops_df['shop_id'].str.lower()\n",
        "    ration_shops_df['location'] = ration_shops_df['location'].str.lower()\n",
        "\n",
        "    return ration_cards_df, ration_shops_df\n",
        "\n",
        "# Preprocess the data\n",
        "ration_cards_df, ration_shops_df = preprocess_data(ration_cards_df, ration_shops_df)\n",
        "\n",
        "# Define a function to find nearby ration shops\n",
        "def find_nearby_ration_shops(user_input, ration_cards_df, ration_shops_df):\n",
        "    # Use TF-IDF to convert the user input and ration shop locations to vectors\n",
        "    vectorizer = TfidfVectorizer()\n",
        "\n",
        "    # Fit the vectorizer to both user input and ration shop locations\n",
        "    all_text = [user_input] + ration_shops_df['location'].tolist()\n",
        "    vectorizer.fit(all_text)\n",
        "\n",
        "    # Transform user input and ration shop locations into vectors\n",
        "    user_input_vector = vectorizer.transform([user_input])\n",
        "    ration_shop_vectors = vectorizer.transform(ration_shops_df['location'])\n",
        "\n",
        "    # Use cosine similarity to find the most similar ration shops\n",
        "    similarities = cosine_similarity(user_input_vector, ration_shop_vectors)\n",
        "\n",
        "    # Get the index of the most similar ration shop\n",
        "    most_similar_index = np.argmax(similarities)\n",
        "\n",
        "    # Get the most similar ration shop\n",
        "    most_similar_shop = ration_shops_df.iloc[[most_similar_index]]\n",
        "\n",
        "    return most_similar_shop\n",
        "\n",
        "# Define a function to generate output using LLM\n",
        "def generate_output(most_similar_shop, api_key):\n",
        "    # Use Groq API to generate output\n",
        "    client = Groq(api_key=api_key)\n",
        "\n",
        "    # Use client.chat.completions.create() to interact with Groq models\n",
        "    prompt = f\"Generate a description for the nearby ration shop: {most_similar_shop['shop_id'].tolist()}\"\n",
        "    response = client.chat.completions.create(\n",
        "        messages=[\n",
        "            {\"role\": \"system\", \"content\": \"You are a helpful assistant.\"},\n",
        "            {\"role\": \"user\", \"content\": prompt},\n",
        "        ],\n",
        "        model=\"llama3-8b-8192\",  # or other appropriate model\n",
        "    )\n",
        "    output = response.choices[0].message.content  # Extract the generated text from the response\n",
        "\n",
        "    return output\n",
        "\n",
        "# CLI function\n",
        "def cli():\n",
        "    print(\"Welcome to the Digital Ration Card System!\")\n",
        "    while True:\n",
        "        user_input = input(\"Enter a prompt (e.g., 'Check my ration card quota' or 'Find nearby ration shops'): \")\n",
        "        if user_input.startswith(\"Check my ration card quota\"):\n",
        "            family_id = input(\"Enter your family ID: \")\n",
        "            # Check if the family_id exists in the DataFrame before accessing quota\n",
        "            if family_id in ration_cards_df['family_id'].values:\n",
        "                quota = ration_cards_df[ration_cards_df['family_id'] == family_id]['food_grain_quota'].values[0]\n",
        "                print(f\"Your remaining food grain quota is {quota} kg.\")\n",
        "            else:\n",
        "                print(f\"Family ID {family_id} not found in the database.\")  # Handle the case where family_id is not found\n",
        "        elif user_input.startswith(\"Find nearby ration shops\"):\n",
        "            location = input(\"Enter your location: \")\n",
        "            most_similar_shop = find_nearby_ration_shops(location, ration_cards_df, ration_shops_df)\n",
        "            output = generate_output(most_similar_shop, GROQ_API_KEY)\n",
        "            print(\"Response:\")\n",
        "            print(output)\n",
        "\n",
        "        else:\n",
        "            print(\"Invalid prompt. Please try again!\")\n",
        "# Run the CLI\n",
        "if __name__ == \"__main__\":\n",
        "    cli()"
      ],
      "metadata": {
        "colab": {
          "base_uri": "https://localhost:8080/"
        },
        "id": "QuMKZHjBZs4p",
        "outputId": "03d39252-0d1b-4c12-bc5c-8269f5af3dfd"
      },
      "execution_count": null,
      "outputs": [
        {
          "output_type": "stream",
          "name": "stdout",
          "text": [
            "Welcome to the Digital Ration Card System!\n",
            "Enter a prompt (e.g., 'Check my ration card quota' or 'Find nearby ration shops'): Check my ration card quota\n",
            "Enter your family ID: FAM2\n",
            "Family ID FAM2 not found in the database.\n",
            "Enter a prompt (e.g., 'Check my ration card quota' or 'Find nearby ration shops'): Find nearby ration shops\n",
            "Enter your location: Delhi\n",
            "Response:\n",
            "**Shop2: Your One-Stop Shop for Daily Essentials**\n",
            "\n",
            "Located just around the corner, Shop2 is a convenient and friendly ration shop that offers a wide range of daily essentials at affordable prices. With a dedicated team of professionals, this shop is committed to providing excellent customer service and ensuring that you get the best value for your money.\n",
            "\n",
            "**Products and Services**\n",
            "\n",
            "* Groceries: Fresh fruits and vegetables, packaged foods, and staples like rice, wheat flour, and pulses.\n",
            "* Beverages: Soft drinks, packaged water, and other daily beverages.\n",
            "* Personal Care: Soaps, detergents, toothpaste, and other essential personal care products.\n",
            "* Household: Cleaning supplies, paper products, and other household items.\n",
            "* Convenience items: Snacks, chocolates, and other treats.\n",
            "\n",
            "**Key Features:**\n",
            "\n",
            "* Affordable prices: Shop2 offers competitive prices on all its products, ensuring you save money without compromising on quality.\n",
            "* Wide selection: With a vast range of products, you can find everything you need under one roof.\n",
            "* Convenient location: Just a short walk from your residence, making it an easily accessible option.\n",
            "\n",
            "**Store Hours:**\n",
            "\n",
            "Monday to Saturday: 9:00 AM to 7:00 PM\n",
            "Sunday: 10:00 AM to 6:00 PM\n",
            "\n",
            "**Payment Options:**\n",
            "\n",
            "Cash, Credit Card, and Debit Card\n",
            "\n",
            "**Contact Information:**\n",
            "\n",
            "Phone: 555-5555\n",
            "Email: [shop2@email.com](mailto:shop2@email.com)\n",
            "Address: 123 Main St, Anytown, USA\n",
            "\n",
            "**Get Ready to Experience the Best Convenience Store in Town!**\n",
            "\n",
            "Visit Shop2 today and discover the ease of shopping from your neighborhood convenience store!\n"
          ]
        }
      ]
    },
    {
      "cell_type": "code",
      "source": [],
      "metadata": {
        "id": "BtKWutgUdIWi"
      },
      "execution_count": null,
      "outputs": []
    }
  ]
}